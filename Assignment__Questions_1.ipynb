{
  "nbformat": 4,
  "nbformat_minor": 0,
  "metadata": {
    "colab": {
      "provenance": []
    },
    "kernelspec": {
      "name": "python3",
      "display_name": "Python 3"
    },
    "language_info": {
      "name": "python"
    }
  },
  "cells": [
    {
      "cell_type": "markdown",
      "source": [
        "***Python Basics Questions***\n",
        "1. What is Python, and why is it popular?\n",
        "\n",
        "Ans. Python is a general purpose programming Language and can be used for developing any kind of application. It is a high level language and interpreted language.\n",
        "It is popular because it is a versatile language and beginner friendly (easy to learn).\n",
        "\n",
        "2. What is an interpreter in Python?\n",
        "\n",
        "Ans. Python is a interpereted language because it execute codes line by line without needing to compile it into machine code first.\n",
        "\n",
        "3. What are pre-defined keywords in Python?\n",
        "\n",
        "Ans. Python have pre defined keywords that holds special meaning and have specific purpose and can't be used as variable names, function names and identifiers.\n",
        "\n",
        "4. Can keywords be used as variable names?\n",
        "\n",
        "Ans. No, we cannot use keywords as variable names because they have specific purpose.\n",
        "\n",
        "5. What is mutability in Python?\n",
        "\n",
        "Ans. Mutabiliy means that we can modify or change it. In python list is a example of mutability while tuples are Immutable(cannot be changed).\n",
        "After creating a list we can still modify it and make necessery changes."
      ],
      "metadata": {
        "id": "guYzS3Sc-9ci"
      }
    },
    {
      "cell_type": "code",
      "source": [
        "#Question 5: Example of mutability in list\n",
        "a=[1,2,3,4,5,6]\n",
        "print(a)\n",
        "a[0]=3\n",
        "print(a)\n"
      ],
      "metadata": {
        "colab": {
          "base_uri": "https://localhost:8080/"
        },
        "id": "wAQ___y3EJ4Z",
        "outputId": "4375c9ab-e19d-4565-be9d-ab47a789e9b2"
      },
      "execution_count": null,
      "outputs": [
        {
          "output_type": "stream",
          "name": "stdout",
          "text": [
            "[1, 2, 3, 4, 5, 6]\n",
            "[3, 2, 3, 4, 5, 6]\n"
          ]
        }
      ]
    },
    {
      "cell_type": "markdown",
      "source": [
        "6. Why are lists mutable, but tuples are immutable?\n",
        "\n",
        "Ans List are stored in dynamic memory loction, which allows them to shrink and expand as needed, while Tuples are stored in fixed memory location. Tuples are faster than list in terms of speed because they don't need memory reallocation.\n",
        "\n",
        "Tuples ensure data integrity, making them useful in cases wherevalues should not change accidentaly.\n",
        "\n",
        "7. What is the difference between “==” and “is” operators in Python?\n",
        "\n",
        "Ans. \"==\" is Equaltiy  operator and \"is\" is identity operator. The difference in them is equality operator compares the value, while  identity operator compares memory loction.\n",
        "\n",
        "8. What are logical operators in Python?\n",
        "\n",
        "Ans. Logical operators help us combine multiple conditions and and make decision in python. They return \"True\" or \"False\" based on condition.\n",
        "\n",
        "9. What is type casting in Python?\n",
        "\n",
        "Ans. The process of changing the data type of a value and object is called *Type casting*.\n",
        "\n",
        "10. What is the difference between implicit and explicit type casting?\n",
        "\n",
        "Ans. Implicit Typecating is type casting in which python itself convert datatype into another, while Explicit Typecasting is Typecasting in which programmer has to manually convert the datatype into another.\n"
      ],
      "metadata": {
        "id": "ubsYbZxTFDCh"
      }
    },
    {
      "cell_type": "code",
      "source": [
        "# Question 10:\n",
        "#  Implicit Typecating Example:\n",
        "a=10\n",
        "b=10.5\n",
        "c=a+b\n",
        "print(c)\n",
        "print(type(c))\n",
        "# Explicit Typecasting Example:\n",
        "s=45.3\n",
        "print(s)\n",
        "print(type(s))\n",
        "s=int(s)\n",
        "print(s)\n",
        "print(type(s))\n"
      ],
      "metadata": {
        "colab": {
          "base_uri": "https://localhost:8080/"
        },
        "id": "fBAmdfZRFCrp",
        "outputId": "de3b8f7b-dcdb-4e64-b93a-395b5166baf8"
      },
      "execution_count": null,
      "outputs": [
        {
          "output_type": "stream",
          "name": "stdout",
          "text": [
            "20.5\n",
            "<class 'float'>\n",
            "45.3\n",
            "<class 'float'>\n",
            "45\n",
            "<class 'int'>\n"
          ]
        }
      ]
    },
    {
      "cell_type": "markdown",
      "source": [
        "11. What is the purpose of conditional statements in Python?\n",
        "\n",
        "Ans. Conditional statements helps in making decision in python program by executing different codes. Conditional statements run specific code when certan conditions are met.\n",
        "\n",
        "12. How does the elif statement work?\n",
        "\n",
        "Ans. In python condition statements are \"if, else, elif\".\n",
        "We use elif when there are alots of condtions.\n",
        "\n",
        "*Syntax:*\n",
        "if condition1:\n",
        "    # Code block runs if condition1 is True\n",
        "elif condition2:\n",
        "    # Code block runs if condition2 is True (only if condition1 is False)\n",
        "elif condition3:\n",
        "    # Code block runs if condition3 is True (only if previous conditions are False)\n",
        "else:\n",
        "    # Code block runs if none of the above conditions are True\n",
        "\n"
      ],
      "metadata": {
        "id": "KaVfp--oLVAU"
      }
    },
    {
      "cell_type": "code",
      "source": [
        "#Question 12: Example of \"elif\"\n",
        "marks = 89\n",
        "if marks>90:\n",
        "  print(\"Grade A+\")\n",
        "elif marks>85 and marks<=90:\n",
        "  print(\"Grade A\")\n",
        "elif marks>80 and marks<+85:\n",
        "  print(\"Grade B+\")\n",
        "elif marks>70 and marks<=80:\n",
        "  print(\"Grade B\")\n",
        "else:\n",
        "  print(\"Grade C\")"
      ],
      "metadata": {
        "colab": {
          "base_uri": "https://localhost:8080/"
        },
        "id": "DB-uzLnUFBmL",
        "outputId": "214d0f5c-a66c-4f67-a421-81fe6f0bca2f"
      },
      "execution_count": null,
      "outputs": [
        {
          "output_type": "stream",
          "name": "stdout",
          "text": [
            "Grade A\n"
          ]
        }
      ]
    },
    {
      "cell_type": "markdown",
      "source": [
        "13. What is the difference between for and while loops?\n",
        "\n",
        "Ans. Both for and while loops execute a block of codes multiple times, but they work differently.\n",
        "\n",
        "For Loop: Used when number of iterations are known and it iterates over a sequence.\n",
        "While Loop: Used when number of iterations are unknown and it runs until condition becomes false.\n"
      ],
      "metadata": {
        "id": "5BATWAfsNmXW"
      }
    },
    {
      "cell_type": "code",
      "source": [
        "# Question 13:\n",
        "# Example of For Loop\n",
        "for i in range(6):\n",
        "  print(i)\n",
        "\n",
        "i=10\n",
        "while i>9:\n",
        "  print(i)\n",
        "  i+=1"
      ],
      "metadata": {
        "id": "PgHe94nMW9rK"
      },
      "execution_count": null,
      "outputs": []
    },
    {
      "cell_type": "markdown",
      "source": [
        "**Practical Questions**\n",
        "\n",
        "1. Write a Python program to print \"Hello, World!\"\n",
        "\n",
        "Ans."
      ],
      "metadata": {
        "id": "Be2C9YU0WiMM"
      }
    },
    {
      "cell_type": "code",
      "source": [
        "print(\"Hello, World!\")"
      ],
      "metadata": {
        "id": "oRVcyPM1Ww_9",
        "colab": {
          "base_uri": "https://localhost:8080/"
        },
        "outputId": "4b551c1c-18e2-42ce-cc4a-7b8a3a3136d9"
      },
      "execution_count": 3,
      "outputs": [
        {
          "output_type": "stream",
          "name": "stdout",
          "text": [
            "Hello, World!\n"
          ]
        }
      ]
    },
    {
      "cell_type": "markdown",
      "source": [
        "2. Write a Python program that displays your name and age?\n",
        "\n",
        "Ans."
      ],
      "metadata": {
        "id": "XYPqK68hXF0C"
      }
    },
    {
      "cell_type": "code",
      "source": [
        "name=input(\"Enter your name:\")\n",
        "age=input(\"Enter your age:\")\n",
        "print(\"Name:\",name)\n",
        "print(\"Age:\",age)\n"
      ],
      "metadata": {
        "id": "Bwl7Lyi4XFJa",
        "colab": {
          "base_uri": "https://localhost:8080/"
        },
        "outputId": "8cd71e8f-75b6-40bf-cd0b-facb17cd0b10"
      },
      "execution_count": 4,
      "outputs": [
        {
          "output_type": "stream",
          "name": "stdout",
          "text": [
            "Enter your name:Tayyaba Noor\n",
            "Enter your age:19\n",
            "Name: Tayyaba Noor\n",
            "Age: 19\n"
          ]
        }
      ]
    },
    {
      "cell_type": "markdown",
      "source": [
        "3.Write code to print all the pre-defined keywords in Python using the keyword library\n",
        "\n",
        "Ans"
      ],
      "metadata": {
        "id": "Hds_BGUfXmGk"
      }
    },
    {
      "cell_type": "code",
      "source": [
        "#print all the pre-defined keywords\n",
        "import keyword\n",
        "\n",
        "keyword.kwlist\n"
      ],
      "metadata": {
        "id": "Qcu37HLNXlNx",
        "colab": {
          "base_uri": "https://localhost:8080/"
        },
        "outputId": "5e398364-4721-46c9-aa1a-9dd580c2d6cb"
      },
      "execution_count": 7,
      "outputs": [
        {
          "output_type": "execute_result",
          "data": {
            "text/plain": [
              "['False',\n",
              " 'None',\n",
              " 'True',\n",
              " 'and',\n",
              " 'as',\n",
              " 'assert',\n",
              " 'async',\n",
              " 'await',\n",
              " 'break',\n",
              " 'class',\n",
              " 'continue',\n",
              " 'def',\n",
              " 'del',\n",
              " 'elif',\n",
              " 'else',\n",
              " 'except',\n",
              " 'finally',\n",
              " 'for',\n",
              " 'from',\n",
              " 'global',\n",
              " 'if',\n",
              " 'import',\n",
              " 'in',\n",
              " 'is',\n",
              " 'lambda',\n",
              " 'nonlocal',\n",
              " 'not',\n",
              " 'or',\n",
              " 'pass',\n",
              " 'raise',\n",
              " 'return',\n",
              " 'try',\n",
              " 'while',\n",
              " 'with',\n",
              " 'yield']"
            ]
          },
          "metadata": {},
          "execution_count": 7
        }
      ]
    },
    {
      "cell_type": "markdown",
      "source": [
        "4. Write a program that checks if a given word is a Python keyword.\n",
        "\n",
        "Ans."
      ],
      "metadata": {
        "id": "TnvTGjQ6X5Qx"
      }
    },
    {
      "cell_type": "code",
      "source": [
        "word = input(\"Enter a word: \")\n",
        "if word in keyword.kwlist:\n",
        "  print(f\"{word} is a Python keyword.\")\n",
        "else:\n",
        "  print(f\"{word} is not a Python keyword.\")"
      ],
      "metadata": {
        "id": "eJXVPsIGXlRW",
        "colab": {
          "base_uri": "https://localhost:8080/"
        },
        "outputId": "3c131677-3b93-48c6-9970-b31f6c527aa4"
      },
      "execution_count": 8,
      "outputs": [
        {
          "output_type": "stream",
          "name": "stdout",
          "text": [
            "Enter a word: while\n",
            "while is a Python keyword.\n"
          ]
        }
      ]
    },
    {
      "cell_type": "markdown",
      "source": [
        "5.  Create a list and tuple in Python, and demonstrate how attempting to change an element works differently\n",
        "for each.\n",
        "\n",
        "Ans."
      ],
      "metadata": {
        "id": "4XnplZJfZBk4"
      }
    },
    {
      "cell_type": "code",
      "source": [
        "list = [12,33,4,56,22]\n",
        "print(list)\n",
        "list[3]=21\n",
        "print(list)\n",
        "#Tuple\n",
        "tuple=(11,34,66,78,33)\n",
        "print(tuple)\n",
        "tuple[3]=22\n",
        "print(tuple)"
      ],
      "metadata": {
        "id": "xyYt0ultXlYK",
        "colab": {
          "base_uri": "https://localhost:8080/",
          "height": 256
        },
        "outputId": "9e03ca6b-55eb-423d-a473-628a034e4894"
      },
      "execution_count": 9,
      "outputs": [
        {
          "output_type": "stream",
          "name": "stdout",
          "text": [
            "[12, 33, 4, 56, 22]\n",
            "[12, 33, 4, 21, 22]\n",
            "(11, 34, 66, 78, 33)\n"
          ]
        },
        {
          "output_type": "error",
          "ename": "TypeError",
          "evalue": "'tuple' object does not support item assignment",
          "traceback": [
            "\u001b[0;31m---------------------------------------------------------------------------\u001b[0m",
            "\u001b[0;31mTypeError\u001b[0m                                 Traceback (most recent call last)",
            "\u001b[0;32m<ipython-input-9-c34dc8112ed7>\u001b[0m in \u001b[0;36m<cell line: 0>\u001b[0;34m()\u001b[0m\n\u001b[1;32m      5\u001b[0m \u001b[0mtuple\u001b[0m\u001b[0;34m=\u001b[0m\u001b[0;34m(\u001b[0m\u001b[0;36m11\u001b[0m\u001b[0;34m,\u001b[0m\u001b[0;36m34\u001b[0m\u001b[0;34m,\u001b[0m\u001b[0;36m66\u001b[0m\u001b[0;34m,\u001b[0m\u001b[0;36m78\u001b[0m\u001b[0;34m,\u001b[0m\u001b[0;36m33\u001b[0m\u001b[0;34m)\u001b[0m\u001b[0;34m\u001b[0m\u001b[0;34m\u001b[0m\u001b[0m\n\u001b[1;32m      6\u001b[0m \u001b[0mprint\u001b[0m\u001b[0;34m(\u001b[0m\u001b[0mtuple\u001b[0m\u001b[0;34m)\u001b[0m\u001b[0;34m\u001b[0m\u001b[0;34m\u001b[0m\u001b[0m\n\u001b[0;32m----> 7\u001b[0;31m \u001b[0mtuple\u001b[0m\u001b[0;34m[\u001b[0m\u001b[0;36m3\u001b[0m\u001b[0;34m]\u001b[0m\u001b[0;34m=\u001b[0m\u001b[0;36m22\u001b[0m\u001b[0;34m\u001b[0m\u001b[0;34m\u001b[0m\u001b[0m\n\u001b[0m\u001b[1;32m      8\u001b[0m \u001b[0mprint\u001b[0m\u001b[0;34m(\u001b[0m\u001b[0mtuple\u001b[0m\u001b[0;34m)\u001b[0m\u001b[0;34m\u001b[0m\u001b[0;34m\u001b[0m\u001b[0m\n",
            "\u001b[0;31mTypeError\u001b[0m: 'tuple' object does not support item assignment"
          ]
        }
      ]
    },
    {
      "cell_type": "markdown",
      "source": [
        "6. Write a function to demonstrate the behavior of mutable and immutable arguments\n",
        "\n",
        "Ans"
      ],
      "metadata": {
        "id": "8lFMMctKZkX_"
      }
    },
    {
      "cell_type": "code",
      "source": [
        "def modify(num, my_list):\n",
        "    num += 10\n",
        "    my_list.append(100)\n",
        "x = 5\n",
        "y = [1, 2, 3]\n",
        "\n",
        "modify(x, y)\n",
        "print(\"After function call - x:\", x)\n",
        "print(\"After function call - y:\", y)\n"
      ],
      "metadata": {
        "id": "qKGPdl8pXlgq",
        "colab": {
          "base_uri": "https://localhost:8080/"
        },
        "outputId": "3e9f6c97-e212-43a0-98d4-ad9573fe68ac"
      },
      "execution_count": 10,
      "outputs": [
        {
          "output_type": "stream",
          "name": "stdout",
          "text": [
            "After function call - x: 5\n",
            "After function call - y: [1, 2, 3, 100]\n"
          ]
        }
      ]
    },
    {
      "cell_type": "markdown",
      "source": [
        "7.  Write a program that performs basic arithmetic operations on two user-input numbers.\n",
        "\n",
        "Ans"
      ],
      "metadata": {
        "id": "VSj1p-ODamEE"
      }
    },
    {
      "cell_type": "code",
      "source": [
        "num1 = float(input(\"Enter first number: \"))\n",
        "num2 = float(input(\"Enter second number: \"))\n",
        "addition = num1 + num2\n",
        "subtraction = num1 - num2\n",
        "multiplication = num1 * num2\n",
        "division = num1 / num2\n",
        "print(\"Addition:\", addition)\n",
        "print(\"Subtraction:\", subtraction)\n",
        "print(\"Multiplication:\", multiplication)\n",
        "print(\"Division:\", division)"
      ],
      "metadata": {
        "colab": {
          "base_uri": "https://localhost:8080/"
        },
        "id": "ZQJxG7b6ak00",
        "outputId": "9e76a1ad-66fc-42c5-cfe0-faf1bdf514c6"
      },
      "execution_count": 11,
      "outputs": [
        {
          "output_type": "stream",
          "name": "stdout",
          "text": [
            "Enter first number: 13\n",
            "Enter second number: 22\n",
            "Addition: 35.0\n",
            "Subtraction: -9.0\n",
            "Multiplication: 286.0\n",
            "Division: 0.5909090909090909\n"
          ]
        }
      ]
    },
    {
      "cell_type": "markdown",
      "source": [
        "8. Write a program to demonstrate the use of logical operators.\n",
        "\n",
        "Ans."
      ],
      "metadata": {
        "id": "AtA77ck6bAzT"
      }
    },
    {
      "cell_type": "code",
      "source": [
        "#Question 8\n",
        "a = int(input(\"Enter first number: \"))\n",
        "b = int(input(\"Enter second number: \"))\n",
        "#And\n",
        "if a>10 and b<20:\n",
        "  print(\"True\")\n",
        "else:\n",
        "  print(\"False\")\n",
        "#Or\n",
        "if a>10 or b<20:\n",
        "  print(\"True\")\n",
        "else:\n",
        "  print(\"False\")"
      ],
      "metadata": {
        "colab": {
          "base_uri": "https://localhost:8080/"
        },
        "id": "AWlCA85XalAS",
        "outputId": "51a6c321-aa86-4b90-d20a-758bc432a198"
      },
      "execution_count": 12,
      "outputs": [
        {
          "output_type": "stream",
          "name": "stdout",
          "text": [
            "Enter first number: 12\n",
            "Enter second number: 13\n",
            "True\n",
            "True\n"
          ]
        }
      ]
    },
    {
      "cell_type": "markdown",
      "source": [
        "9. Write a Python program to convert user input from string to integer, float, and boolean types.\n",
        "\n",
        "Ans."
      ],
      "metadata": {
        "id": "N17pS0tbdIZJ"
      }
    },
    {
      "cell_type": "code",
      "source": [
        "prog=input(\"Enter a value:\")\n",
        "print(prog)\n",
        "print(type(prog))\n",
        "prog=int(prog)\n",
        "print(prog)\n",
        "print(type(prog))\n",
        "prog=float(prog)\n",
        "print(prog)\n",
        "print(type(prog))\n",
        "prog=bool(prog)\n",
        "print(prog)\n",
        "print(type(prog))\n",
        "\n",
        ""
      ],
      "metadata": {
        "colab": {
          "base_uri": "https://localhost:8080/"
        },
        "id": "8EmkTiYKalHB",
        "outputId": "bb1726bc-ddba-47ea-dc83-dfae024e09d2"
      },
      "execution_count": 13,
      "outputs": [
        {
          "output_type": "stream",
          "name": "stdout",
          "text": [
            "Enter a value:45\n",
            "45\n",
            "<class 'str'>\n",
            "45\n",
            "<class 'int'>\n",
            "45.0\n",
            "<class 'float'>\n",
            "True\n",
            "<class 'bool'>\n"
          ]
        }
      ]
    },
    {
      "cell_type": "markdown",
      "source": [
        "10. Write code to demonstrate type casting with list elements.\n",
        "\n",
        "Ans.\n"
      ],
      "metadata": {
        "id": "74Bh7aUzdtiH"
      }
    },
    {
      "cell_type": "code",
      "source": [
        "#demonstrate type casting with list\n",
        "str_list = [10, \"20\", \"30.5\", \"True\", \"False\"]\n",
        "print(type(str_list[4]))\n",
        "print(type(str_list[0]))\n",
        "int(str_list[1])\n",
        "print(type(str_list[1]))\n",
        "float(str_list[2])\n",
        "print(type(str_list[2]))\n",
        "\n",
        "\n",
        "\n"
      ],
      "metadata": {
        "colab": {
          "base_uri": "https://localhost:8080/"
        },
        "id": "NZDAaVI3alMA",
        "outputId": "efa8bc10-b86b-4444-d63c-29fdaf8fd4b2"
      },
      "execution_count": 24,
      "outputs": [
        {
          "output_type": "stream",
          "name": "stdout",
          "text": [
            "<class 'str'>\n",
            "<class 'int'>\n",
            "<class 'str'>\n",
            "<class 'str'>\n"
          ]
        }
      ]
    },
    {
      "cell_type": "markdown",
      "source": [
        "11. Write a program that checks if a number is positive, negative, or zero.\n",
        "\n",
        "Ans."
      ],
      "metadata": {
        "id": "G3WeQs7Gfkk8"
      }
    },
    {
      "cell_type": "code",
      "source": [
        "# program that checks if a number is positive, negative, or zero\n",
        "num = float(input(\"Enter a number: \"))\n",
        "if num > 0:\n",
        "    print(\"The number is Positive.\")\n",
        "elif num < 0:\n",
        "    print(\"The number is Negative.\")\n",
        "else:\n",
        "    print(\"The number is Zero.\")\n"
      ],
      "metadata": {
        "colab": {
          "base_uri": "https://localhost:8080/"
        },
        "id": "RZedO9EZalQq",
        "outputId": "ad79bbde-75e5-44b3-ca91-0b874d68950a"
      },
      "execution_count": 25,
      "outputs": [
        {
          "output_type": "stream",
          "name": "stdout",
          "text": [
            "Enter a number: 33\n",
            "The number is Positive.\n"
          ]
        }
      ]
    },
    {
      "cell_type": "markdown",
      "source": [
        "12. Write a for loop to print numbers from 1 to 10.\n",
        "\n",
        "Ans.\n"
      ],
      "metadata": {
        "id": "9s37B-_Ff0ho"
      }
    },
    {
      "cell_type": "code",
      "source": [
        "for num in range(1, 11):\n",
        "    print(num)\n"
      ],
      "metadata": {
        "colab": {
          "base_uri": "https://localhost:8080/"
        },
        "id": "bB8IE9hKalds",
        "outputId": "3f6a54dd-e155-433b-c098-b94eb9816231"
      },
      "execution_count": 26,
      "outputs": [
        {
          "output_type": "stream",
          "name": "stdout",
          "text": [
            "1\n",
            "2\n",
            "3\n",
            "4\n",
            "5\n",
            "6\n",
            "7\n",
            "8\n",
            "9\n",
            "10\n"
          ]
        }
      ]
    },
    {
      "cell_type": "markdown",
      "source": [
        "13. Write a Python program to find the sum of all even numbers between 1 and 50.\n",
        "\n",
        "Ans."
      ],
      "metadata": {
        "id": "LAtiMET9gE1N"
      }
    },
    {
      "cell_type": "code",
      "source": [
        "#  sum of all even numbers between 1 and 50.\n",
        "sum_even = 0\n",
        "for num in range(2, 51, 2):  # Step size of 2 to get only even numbers\n",
        "    sum_even += num\n",
        "print(sum_even)"
      ],
      "metadata": {
        "colab": {
          "base_uri": "https://localhost:8080/"
        },
        "id": "NbI-yBq5gDYm",
        "outputId": "4036b2bc-0936-4fec-dc03-d98892abca09"
      },
      "execution_count": 30,
      "outputs": [
        {
          "output_type": "stream",
          "name": "stdout",
          "text": [
            "650\n"
          ]
        }
      ]
    },
    {
      "cell_type": "markdown",
      "source": [
        "14.  Write a program to reverse a string using a while loop.\n",
        "\n",
        "Ans."
      ],
      "metadata": {
        "id": "D86gb2zhgnp4"
      }
    },
    {
      "cell_type": "code",
      "source": [
        "\n",
        "string = input(\"Enter a string: \")\n",
        "reversed_string = \"\"\n",
        "i = len(string) - 1\n",
        "while i >= 0:\n",
        "    reversed_string += string[i]\n",
        "    i -= 1\n",
        "print(\"Reversed String:\", reversed_string)\n"
      ],
      "metadata": {
        "colab": {
          "base_uri": "https://localhost:8080/"
        },
        "id": "HnM7Yys6gDb2",
        "outputId": "366d1455-254d-4ff1-93c8-b77335f60567"
      },
      "execution_count": 31,
      "outputs": [
        {
          "output_type": "stream",
          "name": "stdout",
          "text": [
            "Enter a string: tayya\n",
            "Reversed String: ayyat\n"
          ]
        }
      ]
    },
    {
      "cell_type": "markdown",
      "source": [
        "15. Write a Python program to calculate the factorial of a number provided by the user using a while loop.\n",
        "\n",
        "Ans."
      ],
      "metadata": {
        "id": "1tkfQwRqg9Kz"
      }
    },
    {
      "cell_type": "code",
      "source": [
        "num = int(input(\"Enter a number: \"))\n",
        "fact = 1\n",
        "while num > 1:\n",
        "    fact *= num\n",
        "    num -= 1\n",
        "print(\"Factorial is\", fact)"
      ],
      "metadata": {
        "colab": {
          "base_uri": "https://localhost:8080/"
        },
        "id": "0A4JOv3MgDf6",
        "outputId": "38000a08-2953-4e00-b5d9-a2e81ecb3f25"
      },
      "execution_count": 33,
      "outputs": [
        {
          "output_type": "stream",
          "name": "stdout",
          "text": [
            "Enter a number: 7\n",
            "Factorial is 5040\n"
          ]
        }
      ]
    }
  ]
}